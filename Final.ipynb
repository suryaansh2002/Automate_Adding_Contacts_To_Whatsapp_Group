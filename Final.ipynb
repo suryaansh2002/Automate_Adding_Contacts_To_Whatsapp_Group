{
 "cells": [
  {
   "cell_type": "code",
   "execution_count": null,
   "id": "37994a9b",
   "metadata": {},
   "outputs": [],
   "source": [
    "from selenium import webdriver\n",
    "from selenium.webdriver.common.keys import Keys\n",
    "from selenium.webdriver.common.by import By\n",
    "from selenium.webdriver.common.by import By\n",
    "from selenium.webdriver.support.ui import WebDriverWait\n",
    "from selenium.webdriver.support import expected_conditions as EC\n",
    "import time\n",
    "import pandas as pd\n",
    "import numpy as np\n",
    "import requests\n",
    "import urllib.parse\n"
   ]
  },
  {
   "cell_type": "code",
   "execution_count": null,
   "id": "8072ecb1",
   "metadata": {},
   "outputs": [],
   "source": [
    "df=pd.read_excel(\"AddToGroup.xlsx\")"
   ]
  },
  {
   "cell_type": "code",
   "execution_count": null,
   "id": "8d6559ea",
   "metadata": {},
   "outputs": [],
   "source": [
    "l=list(df['Mobile'])"
   ]
  },
  {
   "cell_type": "code",
   "execution_count": null,
   "id": "3441e49a",
   "metadata": {},
   "outputs": [],
   "source": [
    "for i in range(len(l)):\n",
    "    l[i]=str(l[i])"
   ]
  },
  {
   "cell_type": "code",
   "execution_count": null,
   "id": "9e854419",
   "metadata": {},
   "outputs": [],
   "source": [
    "PATH=''\n",
    "groupName=\"\""
   ]
  },
  {
   "cell_type": "code",
   "execution_count": null,
   "id": "88c7d0b3",
   "metadata": {},
   "outputs": [],
   "source": [
    "driver=webdriver.Chrome(PATH)\n",
    "url='https://web.whatsapp.com/'\n",
    "driver.get(url)\n",
    "time.sleep(20)\n",
    "name=driver.find_element(By.CLASS_NAME, \"copyable-text\")\n",
    "\n",
    "name.send_keys(groupName)\n",
    "\n",
    "# grp=driver.find_element(By.XPATH,(f\"//span[contains(@title, {groupName})]\"))\n",
    "grp=driver.find_element(By.CLASS_NAME,\"matched-text\")\n",
    "\n",
    "# matched-text\n",
    "grp.click()\n",
    "\n",
    "header=driver.find_element(By.CLASS_NAME,\"_21nHd\")\n",
    "header.click()\n",
    "add=driver.find_element(By.XPATH,\"// div[contains(text(),'Add participant')]\")\n",
    "add.click()\n",
    "print(\"Adding...\")\n",
    "for i in range(len(l)):\n",
    "    search=driver.find_element(By.CLASS_NAME, \"copyable-text\")\n",
    "    time.sleep(1)\n",
    "    search.send_keys(l[i])\n",
    "    time.sleep(1)\n",
    "    single=driver.find_elements(By.CLASS_NAME,\"_3OvU8\")\n",
    "    time.sleep(1)    \n",
    "    single[2*i].click()  \n",
    "    time.sleep(1)\n",
    "    search.clear() \n",
    "    time.sleep(1)\n",
    "    print(f\"Added {i+1} out of {len(l)}\")\n",
    "\n",
    "time.sleep(2)\n",
    "button=driver.find_element(By.CLASS_NAME,\"_165_h\")\n",
    "button.click()\n",
    "time.sleep(2)\n",
    "\n",
    "final=driver.find_element(By.XPATH,\"// div[contains(text(),'Add participants')]\")\n",
    "final.click()\n",
    "print(\"Done\")"
   ]
  },
  {
   "cell_type": "code",
   "execution_count": null,
   "id": "607f2b2d",
   "metadata": {},
   "outputs": [],
   "source": []
  },
  {
   "cell_type": "code",
   "execution_count": null,
   "id": "0a908a0c",
   "metadata": {},
   "outputs": [],
   "source": []
  }
 ],
 "metadata": {
  "kernelspec": {
   "display_name": "Python 3",
   "language": "python",
   "name": "python3"
  },
  "language_info": {
   "codemirror_mode": {
    "name": "ipython",
    "version": 3
   },
   "file_extension": ".py",
   "mimetype": "text/x-python",
   "name": "python",
   "nbconvert_exporter": "python",
   "pygments_lexer": "ipython3",
   "version": "3.9.9"
  }
 },
 "nbformat": 4,
 "nbformat_minor": 5
}
